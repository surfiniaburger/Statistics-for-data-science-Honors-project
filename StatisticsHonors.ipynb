{
 "cells": [
  {
   "cell_type": "markdown",
   "id": "99e7b8db-6e16-443c-9ced-5066fe69f177",
   "metadata": {},
   "source": [
    "\n",
    "\n",
    "# Honors project\n"
   ]
  },
  {
   "cell_type": "markdown",
   "id": "c3843466-6ff3-4e60-9291-0e7b34d22ad4",
   "metadata": {},
   "source": [
    "# Introduction"
   ]
  },
  {
   "cell_type": "markdown",
   "id": "e5ef20dc-6345-46f5-aa03-505cc0de7a22",
   "metadata": {},
   "source": [
    "We will be working with a data set based on housing prices derived from the U.S. Census Service \n",
    "There are an extensive number of features, so they've been described in the table below.\n",
    "### Features\n",
    "·      CRIM - per capita crime rate by town\n",
    "\n",
    "·      ZN - proportion of residential land zoned for lots over 25,000 sq.ft.\n",
    "\n",
    "·      INDUS - proportion of non-retail business acres per town.\n",
    "\n",
    "·      CHAS - Charles River dummy variable (1 if tract bounds river; 0 otherwise)\n",
    "\n",
    "·      NOX - nitric oxides concentration (parts per 10 million)\n",
    "\n",
    "·      RM - average number of rooms per dwelling\n",
    "\n",
    "·      AGE - proportion of owner-occupied units built prior to 1940\n",
    "\n",
    "·      DIS - weighted distances to five Boston employment centres\n",
    "\n",
    "·      RAD - index of accessibility to radial highways\n",
    "\n",
    "·      TAX - full-value property-tax rate per $10,000\n",
    "\n",
    "·      PTRATIO - pupil-teacher ratio by town\n",
    "\n",
    "·      LSTAT - % lower status of the population\n",
    "\n",
    "·      MEDV - Median value of owner-occupied homes in $1000's"
   ]
  },
  {
   "cell_type": "markdown",
   "id": "2aa2f346-8383-495e-b809-de724b366265",
   "metadata": {},
   "source": [
    "### Objectives\n",
    "\n",
    "Is there a significant difference in median value of houses bounded by the Charles river or not? (T-test for independent samples)\n",
    "\n",
    "Is there a difference in Median values of houses (MEDV) for each proportion of owner occupied units built prior to 1940 (AGE)? (ANOVA)\n",
    "\n",
    "Can we conclude that there is no relationship between Nitric oxide concentrations and proportion of non-retail business acres per town? (Pearson Correlation)\n",
    "\n",
    "What is the impact of an additional weighted distance  to the five Boston employment centres on the median value of owner occupied homes? (Regression analysis)"
   ]
  },
  {
   "cell_type": "code",
   "execution_count": 106,
   "id": "b551fc75-f4a1-4dd5-885e-eebf3fd87ec1",
   "metadata": {},
   "outputs": [],
   "source": [
    "#Surpress warnings\n",
    "import warnings \n",
    "warnings.filterwarnings('ignore')"
   ]
  },
  {
   "cell_type": "code",
   "execution_count": 107,
   "id": "d9b95df9-e9bf-43af-b4f6-9d7ae241da55",
   "metadata": {},
   "outputs": [],
   "source": [
    "import numpy as np\n",
    "import pandas as pd\n",
    "import seaborn as sns\n",
    "import matplotlib.pyplot as plt\n",
    "import scipy.stats\n",
    "import matplotlib.pyplot as pyplot\n",
    "import scipy.stats as stats \n",
    "from scipy.stats import chi2_contingency\n",
    "\n",
    "from statsmodels.formula.api import ols\n",
    "from statsmodels.stats.anova import anova_lm \n",
    "import statsmodels.api as sm"
   ]
  },
  {
   "cell_type": "code",
   "execution_count": 108,
   "id": "a4ebb6d2-c3b4-448b-aa5c-294ce6ebacd9",
   "metadata": {},
   "outputs": [],
   "source": [
    "boston_url = 'https://cf-courses-data.s3.us.cloud-object-storage.appdomain.cloud/IBMDeveloperSkillsNetwork-ST0151EN-SkillsNetwork/labs/boston_housing.csv'\n",
    "boston_df=pd.read_csv(boston_url)"
   ]
  },
  {
   "cell_type": "code",
   "execution_count": 109,
   "id": "3b1cee8e-8cf2-4eff-837f-72898071c118",
   "metadata": {},
   "outputs": [
    {
     "data": {
      "text/html": [
       "<div>\n",
       "<style scoped>\n",
       "    .dataframe tbody tr th:only-of-type {\n",
       "        vertical-align: middle;\n",
       "    }\n",
       "\n",
       "    .dataframe tbody tr th {\n",
       "        vertical-align: top;\n",
       "    }\n",
       "\n",
       "    .dataframe thead th {\n",
       "        text-align: right;\n",
       "    }\n",
       "</style>\n",
       "<table border=\"1\" class=\"dataframe\">\n",
       "  <thead>\n",
       "    <tr style=\"text-align: right;\">\n",
       "      <th></th>\n",
       "      <th>Unnamed: 0</th>\n",
       "      <th>CRIM</th>\n",
       "      <th>ZN</th>\n",
       "      <th>INDUS</th>\n",
       "      <th>CHAS</th>\n",
       "      <th>NOX</th>\n",
       "      <th>RM</th>\n",
       "      <th>AGE</th>\n",
       "      <th>DIS</th>\n",
       "      <th>RAD</th>\n",
       "      <th>TAX</th>\n",
       "      <th>PTRATIO</th>\n",
       "      <th>LSTAT</th>\n",
       "      <th>MEDV</th>\n",
       "    </tr>\n",
       "  </thead>\n",
       "  <tbody>\n",
       "    <tr>\n",
       "      <th>0</th>\n",
       "      <td>0</td>\n",
       "      <td>0.00632</td>\n",
       "      <td>18.0</td>\n",
       "      <td>2.31</td>\n",
       "      <td>0.0</td>\n",
       "      <td>0.538</td>\n",
       "      <td>6.575</td>\n",
       "      <td>65.2</td>\n",
       "      <td>4.0900</td>\n",
       "      <td>1.0</td>\n",
       "      <td>296.0</td>\n",
       "      <td>15.3</td>\n",
       "      <td>4.98</td>\n",
       "      <td>24.0</td>\n",
       "    </tr>\n",
       "    <tr>\n",
       "      <th>1</th>\n",
       "      <td>1</td>\n",
       "      <td>0.02731</td>\n",
       "      <td>0.0</td>\n",
       "      <td>7.07</td>\n",
       "      <td>0.0</td>\n",
       "      <td>0.469</td>\n",
       "      <td>6.421</td>\n",
       "      <td>78.9</td>\n",
       "      <td>4.9671</td>\n",
       "      <td>2.0</td>\n",
       "      <td>242.0</td>\n",
       "      <td>17.8</td>\n",
       "      <td>9.14</td>\n",
       "      <td>21.6</td>\n",
       "    </tr>\n",
       "    <tr>\n",
       "      <th>2</th>\n",
       "      <td>2</td>\n",
       "      <td>0.02729</td>\n",
       "      <td>0.0</td>\n",
       "      <td>7.07</td>\n",
       "      <td>0.0</td>\n",
       "      <td>0.469</td>\n",
       "      <td>7.185</td>\n",
       "      <td>61.1</td>\n",
       "      <td>4.9671</td>\n",
       "      <td>2.0</td>\n",
       "      <td>242.0</td>\n",
       "      <td>17.8</td>\n",
       "      <td>4.03</td>\n",
       "      <td>34.7</td>\n",
       "    </tr>\n",
       "    <tr>\n",
       "      <th>3</th>\n",
       "      <td>3</td>\n",
       "      <td>0.03237</td>\n",
       "      <td>0.0</td>\n",
       "      <td>2.18</td>\n",
       "      <td>0.0</td>\n",
       "      <td>0.458</td>\n",
       "      <td>6.998</td>\n",
       "      <td>45.8</td>\n",
       "      <td>6.0622</td>\n",
       "      <td>3.0</td>\n",
       "      <td>222.0</td>\n",
       "      <td>18.7</td>\n",
       "      <td>2.94</td>\n",
       "      <td>33.4</td>\n",
       "    </tr>\n",
       "    <tr>\n",
       "      <th>4</th>\n",
       "      <td>4</td>\n",
       "      <td>0.06905</td>\n",
       "      <td>0.0</td>\n",
       "      <td>2.18</td>\n",
       "      <td>0.0</td>\n",
       "      <td>0.458</td>\n",
       "      <td>7.147</td>\n",
       "      <td>54.2</td>\n",
       "      <td>6.0622</td>\n",
       "      <td>3.0</td>\n",
       "      <td>222.0</td>\n",
       "      <td>18.7</td>\n",
       "      <td>5.33</td>\n",
       "      <td>36.2</td>\n",
       "    </tr>\n",
       "  </tbody>\n",
       "</table>\n",
       "</div>"
      ],
      "text/plain": [
       "   Unnamed: 0     CRIM    ZN  INDUS  CHAS    NOX     RM   AGE     DIS  RAD  \\\n",
       "0           0  0.00632  18.0   2.31   0.0  0.538  6.575  65.2  4.0900  1.0   \n",
       "1           1  0.02731   0.0   7.07   0.0  0.469  6.421  78.9  4.9671  2.0   \n",
       "2           2  0.02729   0.0   7.07   0.0  0.469  7.185  61.1  4.9671  2.0   \n",
       "3           3  0.03237   0.0   2.18   0.0  0.458  6.998  45.8  6.0622  3.0   \n",
       "4           4  0.06905   0.0   2.18   0.0  0.458  7.147  54.2  6.0622  3.0   \n",
       "\n",
       "     TAX  PTRATIO  LSTAT  MEDV  \n",
       "0  296.0     15.3   4.98  24.0  \n",
       "1  242.0     17.8   9.14  21.6  \n",
       "2  242.0     17.8   4.03  34.7  \n",
       "3  222.0     18.7   2.94  33.4  \n",
       "4  222.0     18.7   5.33  36.2  "
      ]
     },
     "execution_count": 109,
     "metadata": {},
     "output_type": "execute_result"
    }
   ],
   "source": [
    "boston_df.head()"
   ]
  },
  {
   "cell_type": "code",
   "execution_count": 110,
   "id": "d28b0ada-6aea-4492-a7a5-10f632517642",
   "metadata": {},
   "outputs": [
    {
     "name": "stdout",
     "output_type": "stream",
     "text": [
      "<class 'pandas.core.frame.DataFrame'>\n",
      "RangeIndex: 506 entries, 0 to 505\n",
      "Data columns (total 14 columns):\n",
      " #   Column      Non-Null Count  Dtype  \n",
      "---  ------      --------------  -----  \n",
      " 0   Unnamed: 0  506 non-null    int64  \n",
      " 1   CRIM        506 non-null    float64\n",
      " 2   ZN          506 non-null    float64\n",
      " 3   INDUS       506 non-null    float64\n",
      " 4   CHAS        506 non-null    float64\n",
      " 5   NOX         506 non-null    float64\n",
      " 6   RM          506 non-null    float64\n",
      " 7   AGE         506 non-null    float64\n",
      " 8   DIS         506 non-null    float64\n",
      " 9   RAD         506 non-null    float64\n",
      " 10  TAX         506 non-null    float64\n",
      " 11  PTRATIO     506 non-null    float64\n",
      " 12  LSTAT       506 non-null    float64\n",
      " 13  MEDV        506 non-null    float64\n",
      "dtypes: float64(13), int64(1)\n",
      "memory usage: 55.5 KB\n"
     ]
    }
   ],
   "source": [
    "boston_df.info()"
   ]
  },
  {
   "cell_type": "code",
   "execution_count": 111,
   "id": "6e5f00fa-12a8-4b91-8ea9-42c22f4f04e8",
   "metadata": {},
   "outputs": [
    {
     "data": {
      "text/plain": [
       "(506, 14)"
      ]
     },
     "execution_count": 111,
     "metadata": {},
     "output_type": "execute_result"
    }
   ],
   "source": [
    "boston_df.shape"
   ]
  },
  {
   "cell_type": "markdown",
   "id": "fe91e805-5452-4c6a-9bec-e7a6c813a231",
   "metadata": {},
   "source": [
    "# Is there a significant difference in median value of houses bounded by the Charles river or not?"
   ]
  },
  {
   "cell_type": "markdown",
   "id": "c0d565df-3689-4ac9-a45d-87f41c7331d3",
   "metadata": {},
   "source": [
    "First, lets visualize the relationship between CHAS and MEDV data."
   ]
  },
  {
   "cell_type": "code",
   "execution_count": 112,
   "id": "0accdb04-1101-4e7e-8fba-670d0bd5931d",
   "metadata": {},
   "outputs": [
    {
     "data": {
      "image/png": "[encoded data removed]",
      "text/plain": [
       "<Figure size 640x480 with 1 Axes>"
      ]
     },
     "metadata": {},
     "output_type": "display_data"
    }
   ],
   "source": [
    "ax = sns.boxplot(x='CHAS', y=\"MEDV\", data=boston_df)"
   ]
  },
  {
   "cell_type": "markdown",
   "id": "0f2f61b8-6256-4319-ae4d-d22b0cb34549",
   "metadata": {},
   "source": [
    "From the graph above, the boxplot of the median value of houses bound by Charles river have higher interquatile range than the boxplot of the median value of houses not bound by Charles river. Also, median value of houses not bound by Charles river above 37 are outliers."
   ]
  },
  {
   "cell_type": "code",
   "execution_count": 113,
   "id": "acfbb3ef-6532-4281-b830-a8a1ead17887",
   "metadata": {},
   "outputs": [],
   "source": [
    "# Find the average MEDV in both groups of river bound and otherwise charles river variable\n",
    "division_eval = boston_df.groupby('CHAS')[['MEDV']].mean().reset_index()"
   ]
  },
  {
   "cell_type": "code",
   "execution_count": 114,
   "id": "d6d8aba8-4481-458e-b727-a4d32763699c",
   "metadata": {},
   "outputs": [
    {
     "data": {
      "image/png": "[encoded data removed]",
      "text/plain": [
       "<Figure size 640x480 with 1 Axes>"
      ]
     },
     "metadata": {},
     "output_type": "display_data"
    }
   ],
   "source": [
    "# Bar plot using the Seaborn library\n",
    "sns.set(style=\"whitegrid\")\n",
    "ax = sns.barplot(x=\"CHAS\", y=\"MEDV\", data=division_eval)"
   ]
  },
  {
   "cell_type": "markdown",
   "id": "15ae3591-df90-43b6-b5da-2456d510cb54",
   "metadata": {},
   "source": [
    "From the graph above, the average median value of houses bound by Charles river is higher than the average median value of houses not bound by Charles river"
   ]
  },
  {
   "cell_type": "markdown",
   "id": "524bd338-e64a-4fbb-96ad-01192588d75c",
   "metadata": {},
   "source": [
    "Next, state the hypothesis:\n",
    "* $H_0: µ_1 = µ_2$ (\"there's no significant difference in median value of houses bound by Charles river\")\n",
    "* $H_1: µ_1 ≠ µ_2$ (\"there is a significant difference in median value of houses bound by Charles river\")\n",
    "\n",
    "Confidence level is 5%."
   ]
  },
  {
   "cell_type": "markdown",
   "id": "4db9555d-37e3-4491-945a-9a3754a85b8a",
   "metadata": {},
   "source": [
    "Next, use the <code>ttest_ind</code> from the <code>scipy_stats</code> library"
   ]
  },
  {
   "cell_type": "code",
   "execution_count": 115,
   "id": "bcec2001-90bc-4c51-9dcb-e97acf185c4a",
   "metadata": {},
   "outputs": [
    {
     "data": {
      "text/plain": [
       "Ttest_indResult(statistic=3.996437466090509, pvalue=7.390623170519905e-05)"
      ]
     },
     "execution_count": 115,
     "metadata": {},
     "output_type": "execute_result"
    }
   ],
   "source": [
    "scipy.stats.ttest_ind(boston_df[boston_df['CHAS'] == 1.0]['MEDV'],\n",
    "                   boston_df[boston_df['CHAS'] == 0.0]['MEDV'], equal_var = True)"
   ]
  },
  {
   "cell_type": "markdown",
   "id": "4e9a9f8b-6caa-422c-b102-a4cdac2e5948",
   "metadata": {},
   "source": [
    "Conclusion: Since the p-value is less than 0.05, we will reject the null hypothesis as there is a significant difference in median value of houses bound by Charles river"
   ]
  },
  {
   "cell_type": "markdown",
   "id": "70f5a96b-bb93-41ad-8900-f3282758b6ba",
   "metadata": {},
   "source": [
    "# Is there a difference in Median values of houses (MEDV) for each proportion of owner occupied units built prior to 1940 (AGE)?"
   ]
  },
  {
   "cell_type": "markdown",
   "id": "e4b3876d-1446-45b2-b2c8-d3082498ba18",
   "metadata": {},
   "source": [
    "First, we group the data into categories as the one-way ANOVA can't work with continuous variable, we will create a new column for this newly assigned group our categories will be owners that are:\n",
    "* 35 years and younger\n",
    "* between 35 and 70 years\n",
    "* 70 years and older\n"
   ]
  },
  {
   "cell_type": "code",
   "execution_count": 116,
   "id": "33e1a98a-4974-4626-bc96-6014446e12bf",
   "metadata": {},
   "outputs": [],
   "source": [
    "boston_df.loc[(boston_df['AGE'] <= 35), 'age_group'] = '35 years and younger'\n",
    "boston_df.loc[(boston_df['AGE'] > 35)&(boston_df['AGE'] < 70), 'age_group'] = 'between 35 and 70 years'\n",
    "boston_df.loc[(boston_df['AGE'] >= 70), 'age_group'] = '70 years and older'"
   ]
  },
  {
   "cell_type": "markdown",
   "id": "6475edc3-9e1a-4cdc-93c8-d03ff3f9e4f3",
   "metadata": {},
   "source": [
    "visualizing the grouped data"
   ]
  },
  {
   "cell_type": "code",
   "execution_count": 117,
   "id": "795de5a9-1854-46a7-bea4-b7ae1c040da7",
   "metadata": {},
   "outputs": [
    {
     "data": {
      "image/png": "[encoded data removed]",
      "text/plain": [
       "<Figure size 640x480 with 1 Axes>"
      ]
     },
     "metadata": {},
     "output_type": "display_data"
    }
   ],
   "source": [
    "ax = sns.boxplot(x='age_group', y=\"MEDV\", data=boston_df)"
   ]
  },
  {
   "cell_type": "markdown",
   "id": "a4a620a1-873f-4c4d-90ca-afc41ab025ae",
   "metadata": {},
   "source": [
    "The upper and lower whisker of 35 years and younger age group is greater than the upper and lower whisker between 35 and 70 years. The upper and lower whisker between 35 and 70 years is greater than the upper and lower whisker of 70 years and older age group. All groups have outliers."
   ]
  },
  {
   "cell_type": "markdown",
   "id": "2fd17db9-4e6a-457d-ab38-de198f488f1d",
   "metadata": {},
   "source": [
    "Next, state the hypothesis:\n",
    "* $H_0: µ_1 = µ_2$ (\"there's no significant difference in median value of houses (MEDV) for each proportion of owner occupied units built prior to 1940 (AGE)\")\n",
    "* $H_1: µ_1 ≠ µ_2$ (\"there is a significant difference in median value of houses (MEDV) for each proportion of owner occupied units built prior to 1940 (AGE)\")\n",
    "\n",
    "Confidence level is 5%."
   ]
  },
  {
   "cell_type": "markdown",
   "id": "98f15ff0-429b-49c8-bb93-8156191c3a68",
   "metadata": {},
   "source": [
    "Next, separate the three samples (one for each job category) into a variable each."
   ]
  },
  {
   "cell_type": "code",
   "execution_count": 118,
   "id": "a630cc4c-a1c7-4daa-95e4-f59ab09f020a",
   "metadata": {},
   "outputs": [],
   "source": [
    "b=boston_df[boston_df['age_group'] == '35 years and younger']['MEDV']\n",
    "c=boston_df[boston_df['age_group'] == 'between 35 and 70 years']['MEDV']\n",
    "d=boston_df[boston_df['age_group'] == '70 years and older']['MEDV']"
   ]
  },
  {
   "cell_type": "markdown",
   "id": "0e2f3028-d0c2-4eac-9d9c-bcc38ed2c95f",
   "metadata": {},
   "source": [
    "Next, run a one-way ANOVA."
   ]
  },
  {
   "cell_type": "code",
   "execution_count": 119,
   "id": "595002ad-9f93-4b38-a1f9-27fd02d5d91f",
   "metadata": {},
   "outputs": [
    {
     "name": "stdout",
     "output_type": "stream",
     "text": [
      "F_Statistic: 36.40764999196599, P-Value: 1.7105011022702984e-15\n"
     ]
    }
   ],
   "source": [
    "f_statistic, p_value = scipy.stats.f_oneway(b, c, d)\n",
    "print(\"F_Statistic: {0}, P-Value: {1}\".format(f_statistic,p_value))"
   ]
  },
  {
   "cell_type": "markdown",
   "id": "bccff493-7b1f-42db-b98a-655cdad28786",
   "metadata": {},
   "source": [
    "Conclusion: Since the p-value is less than 0.05, we will reject the null hypothesis as there is a significant difference in median value of houses (MEDV) for each proportion of owner occupied units built prior to 1940 (AGE)."
   ]
  },
  {
   "cell_type": "markdown",
   "id": "dbb237c3-bd75-4c4e-8c51-f2006f50534e",
   "metadata": {},
   "source": [
    "# Can we conclude that there is no relationship between Nitric oxide concentrations and proportion of non-retail business acres per town?"
   ]
  },
  {
   "cell_type": "markdown",
   "id": "3f081003-57ee-487b-a660-a7182c2c0a91",
   "metadata": {},
   "source": [
    "First let visualize the relationship betweem Nitric oxide concentrations(NOX) and proportion of non-retail business acres per town(INDUS)?"
   ]
  },
  {
   "cell_type": "code",
   "execution_count": 120,
   "id": "35d6bc60-8244-47ee-83ac-0102e5ed0556",
   "metadata": {},
   "outputs": [
    {
     "data": {
      "image/png": "[encoded data removed]",
      "text/plain": [
       "<Figure size 640x480 with 1 Axes>"
      ]
     },
     "metadata": {},
     "output_type": "display_data"
    }
   ],
   "source": [
    "# Create scatterplot with the scatterplot function in the seaborn library\n",
    "ax = sns.scatterplot(x='INDUS', y='NOX',\n",
    "                     data=boston_df)"
   ]
  },
  {
   "cell_type": "markdown",
   "id": "2801fb41-6017-41bf-91a9-233d3aaa3d59",
   "metadata": {},
   "source": [
    "From the graph above, there's a direct proportionality between nitric oxide concentration (NOX) and proportion of non-retail business acres per town."
   ]
  },
  {
   "cell_type": "markdown",
   "id": "66d35bcc-8b65-4e61-806d-776a6d77ae43",
   "metadata": {},
   "source": [
    "Next state the hypothesis:\n",
    "* $H_0:$ Nitric oxide concentration is not correlated with proportion of non-retail business acres per town\n",
    "* $H_1:$ Nitric oxide concentration is correlated with proportion of non-retail business acres per town\n",
    "\n",
    "Confidence level is 5%"
   ]
  },
  {
   "cell_type": "markdown",
   "id": "6158cda6-1fc0-4247-ad2f-90f067623c8c",
   "metadata": {},
   "source": [
    "Since they are both continuous variables we can use a pearson correlation test"
   ]
  },
  {
   "cell_type": "code",
   "execution_count": 121,
   "id": "c3594cfc-33de-4edb-b06e-7733def58f91",
   "metadata": {},
   "outputs": [
    {
     "data": {
      "text/plain": [
       "PearsonRResult(statistic=0.7636514469209151, pvalue=7.913361061238693e-98)"
      ]
     },
     "execution_count": 121,
     "metadata": {},
     "output_type": "execute_result"
    }
   ],
   "source": [
    "scipy.stats.pearsonr(boston_df['NOX'], boston_df['INDUS'])"
   ]
  },
  {
   "cell_type": "markdown",
   "id": "6190cc4b-e468-4f5e-a0e2-023c666c182d",
   "metadata": {},
   "source": [
    "**Conclusion:** Since the p-value  (Sig. (2-tailed)  < 0.05, we reject  the Null hypothesis and conclude that there  exists a relationship between  Nitric oxide concentration and proportion of non-retail business acres per town."
   ]
  },
  {
   "cell_type": "markdown",
   "id": "1ec3ddc6-c655-4dd6-ac06-03ae1944b014",
   "metadata": {},
   "source": [
    "#### Create a histogram for the pupil to teacher ratio variable"
   ]
  },
  {
   "cell_type": "code",
   "execution_count": 122,
   "id": "28a21275-9120-4e03-976d-3840b4c8c43f",
   "metadata": {},
   "outputs": [
    {
     "data": {
      "text/plain": [
       "[Text(0.5, 0, 'Normal Distribution'), Text(0, 0.5, 'Frequency')]"
      ]
     },
     "execution_count": 122,
     "metadata": {},
     "output_type": "execute_result"
    },
    {
     "data": {
      "image/png": "[encoded data removed]",
      "text/plain": [
       "<Figure size 640x480 with 1 Axes>"
      ]
     },
     "metadata": {},
     "output_type": "display_data"
    }
   ],
   "source": [
    "ax = sns.distplot(boston_df['PTRATIO'],\n",
    "                  bins=10,\n",
    "                  kde=True,\n",
    "                  color='red',\n",
    "                  hist_kws={\"linewidth\": 15,'alpha':1})\n",
    "ax.set(xlabel='Normal Distribution', ylabel='Frequency')\n",
    "## we can assume it is normal"
   ]
  },
  {
   "cell_type": "markdown",
   "id": "0cefe3ab-ca06-49a8-a4bd-2141ed63680f",
   "metadata": {},
   "source": [
    "From the graph above, the normal distribution curve is skewed to the left."
   ]
  },
  {
   "cell_type": "markdown",
   "id": "7659c65a-2d77-4ec7-88f1-e9fbc1156b90",
   "metadata": {},
   "source": [
    "# What is the impact of an additional weighted distance  to the five Boston employment centres on the median value of owner occupied homes?"
   ]
  },
  {
   "cell_type": "markdown",
   "id": "e38fbd40-8df3-4f21-b2da-1e0340054856",
   "metadata": {},
   "source": [
    "First, create a scatterplot with the scatterplot function in the seaborn library\n"
   ]
  },
  {
   "cell_type": "code",
   "execution_count": 123,
   "id": "11c5a025-4ff7-453e-941a-fe195da71162",
   "metadata": {},
   "outputs": [
    {
     "data": {
      "image/png": "[encoded data removed]",
      "text/plain": [
       "<Figure size 640x480 with 1 Axes>"
      ]
     },
     "metadata": {},
     "output_type": "display_data"
    }
   ],
   "source": [
    "ax = sns.scatterplot(x='MEDV', y='DIS',\n",
    "                     data=boston_df)"
   ]
  },
  {
   "cell_type": "markdown",
   "id": "1ab2a453-2964-466b-8373-85b734f18f93",
   "metadata": {},
   "source": [
    "The graph above shows positive correlation between DIS and MEDV"
   ]
  },
  {
   "cell_type": "markdown",
   "id": "4593fcd6-07c4-437b-938e-324e3c478520",
   "metadata": {},
   "source": [
    "Next state the hypothesis:\n",
    "* $H_0:$ Additional weighted distance to the five Boston employment centres is not correlated with median value of owner occupied homes\n",
    "* $H_1:$ Additional weighted distance to the five Boston employment centres is correlated with median value of owner occupied homes\n",
    "\n",
    "Confidence level is 5%"
   ]
  },
  {
   "cell_type": "code",
   "execution_count": 124,
   "id": "df580407-42ba-4b4b-86d2-2cd5f1b19e9e",
   "metadata": {},
   "outputs": [
    {
     "data": {
      "text/html": [
       "<table class=\"simpletable\">\n",
       "<caption>OLS Regression Results</caption>\n",
       "<tr>\n",
       "  <th>Dep. Variable:</th>          <td>MEDV</td>       <th>  R-squared:         </th> <td>   0.062</td>\n",
       "</tr>\n",
       "<tr>\n",
       "  <th>Model:</th>                   <td>OLS</td>       <th>  Adj. R-squared:    </th> <td>   0.061</td>\n",
       "</tr>\n",
       "<tr>\n",
       "  <th>Method:</th>             <td>Least Squares</td>  <th>  F-statistic:       </th> <td>   33.58</td>\n",
       "</tr>\n",
       "<tr>\n",
       "  <th>Date:</th>             <td>Fri, 21 Apr 2023</td> <th>  Prob (F-statistic):</th> <td>1.21e-08</td>\n",
       "</tr>\n",
       "<tr>\n",
       "  <th>Time:</th>                 <td>06:11:07</td>     <th>  Log-Likelihood:    </th> <td> -1823.9</td>\n",
       "</tr>\n",
       "<tr>\n",
       "  <th>No. Observations:</th>      <td>   506</td>      <th>  AIC:               </th> <td>   3652.</td>\n",
       "</tr>\n",
       "<tr>\n",
       "  <th>Df Residuals:</th>          <td>   504</td>      <th>  BIC:               </th> <td>   3660.</td>\n",
       "</tr>\n",
       "<tr>\n",
       "  <th>Df Model:</th>              <td>     1</td>      <th>                     </th>     <td> </td>   \n",
       "</tr>\n",
       "<tr>\n",
       "  <th>Covariance Type:</th>      <td>nonrobust</td>    <th>                     </th>     <td> </td>   \n",
       "</tr>\n",
       "</table>\n",
       "<table class=\"simpletable\">\n",
       "<tr>\n",
       "    <td></td>       <th>coef</th>     <th>std err</th>      <th>t</th>      <th>P>|t|</th>  <th>[0.025</th>    <th>0.975]</th>  \n",
       "</tr>\n",
       "<tr>\n",
       "  <th>const</th> <td>   18.3901</td> <td>    0.817</td> <td>   22.499</td> <td> 0.000</td> <td>   16.784</td> <td>   19.996</td>\n",
       "</tr>\n",
       "<tr>\n",
       "  <th>DIS</th>   <td>    1.0916</td> <td>    0.188</td> <td>    5.795</td> <td> 0.000</td> <td>    0.722</td> <td>    1.462</td>\n",
       "</tr>\n",
       "</table>\n",
       "<table class=\"simpletable\">\n",
       "<tr>\n",
       "  <th>Omnibus:</th>       <td>139.779</td> <th>  Durbin-Watson:     </th> <td>   0.570</td>\n",
       "</tr>\n",
       "<tr>\n",
       "  <th>Prob(Omnibus):</th> <td> 0.000</td>  <th>  Jarque-Bera (JB):  </th> <td> 305.104</td>\n",
       "</tr>\n",
       "<tr>\n",
       "  <th>Skew:</th>          <td> 1.466</td>  <th>  Prob(JB):          </th> <td>5.59e-67</td>\n",
       "</tr>\n",
       "<tr>\n",
       "  <th>Kurtosis:</th>      <td> 5.424</td>  <th>  Cond. No.          </th> <td>    9.32</td>\n",
       "</tr>\n",
       "</table><br/><br/>Notes:<br/>[1] Standard Errors assume that the covariance matrix of the errors is correctly specified."
      ],
      "text/plain": [
       "<class 'statsmodels.iolib.summary.Summary'>\n",
       "\"\"\"\n",
       "                            OLS Regression Results                            \n",
       "==============================================================================\n",
       "Dep. Variable:                   MEDV   R-squared:                       0.062\n",
       "Model:                            OLS   Adj. R-squared:                  0.061\n",
       "Method:                 Least Squares   F-statistic:                     33.58\n",
       "Date:                Fri, 21 Apr 2023   Prob (F-statistic):           1.21e-08\n",
       "Time:                        06:11:07   Log-Likelihood:                -1823.9\n",
       "No. Observations:                 506   AIC:                             3652.\n",
       "Df Residuals:                     504   BIC:                             3660.\n",
       "Df Model:                           1                                         \n",
       "Covariance Type:            nonrobust                                         \n",
       "==============================================================================\n",
       "                 coef    std err          t      P>|t|      [0.025      0.975]\n",
       "------------------------------------------------------------------------------\n",
       "const         18.3901      0.817     22.499      0.000      16.784      19.996\n",
       "DIS            1.0916      0.188      5.795      0.000       0.722       1.462\n",
       "==============================================================================\n",
       "Omnibus:                      139.779   Durbin-Watson:                   0.570\n",
       "Prob(Omnibus):                  0.000   Jarque-Bera (JB):              305.104\n",
       "Skew:                           1.466   Prob(JB):                     5.59e-67\n",
       "Kurtosis:                       5.424   Cond. No.                         9.32\n",
       "==============================================================================\n",
       "\n",
       "Notes:\n",
       "[1] Standard Errors assume that the covariance matrix of the errors is correctly specified.\n",
       "\"\"\""
      ]
     },
     "execution_count": 124,
     "metadata": {},
     "output_type": "execute_result"
    }
   ],
   "source": [
    "## X is the input variables (or independent variables)\n",
    "X = boston_df['DIS']\n",
    "## y is the target/dependent variable\n",
    "y = boston_df['MEDV']\n",
    "## add an intercept (beta_0) to our model\n",
    "X = sm.add_constant(X) \n",
    "\n",
    "model = sm.OLS(y, X).fit()\n",
    "predictions = model.predict(X)\n",
    "\n",
    "# Print out the statistics\n",
    "model.summary()"
   ]
  },
  {
   "cell_type": "markdown",
   "id": "6482613d-4cdd-413e-9b41-ee4332578973",
   "metadata": {},
   "source": [
    "Since p < 0.05 we reject the null hypothesis as there is evidence of correlation between DIS and MEDV"
   ]
  },
  {
   "cell_type": "markdown",
   "id": "ad654173-89db-450e-8c3b-ec795a6dcc2d",
   "metadata": {},
   "source": [
    "Conclusion: An additional weighted distance to the five Boston employment centres is most likely going to increase  median value of owner occupied homes."
   ]
  },
  {
   "cell_type": "markdown",
   "id": "a1559b90-19ee-4339-80a2-1c31cc699dab",
   "metadata": {},
   "source": [
    "## References"
   ]
  },
  {
   "cell_type": "markdown",
   "id": "32c8c6cf-e9dc-4815-95ab-69b43ed9adf7",
   "metadata": {},
   "source": [
    "IBM Skills Build"
   ]
  },
  {
   "cell_type": "markdown",
   "id": "4f805c75-d7bb-4830-9381-145e7afa1d71",
   "metadata": {},
   "source": [
    "## Author"
   ]
  },
  {
   "cell_type": "markdown",
   "id": "9f6c3218-89ee-48a8-ad98-da27f04e5f6f",
   "metadata": {},
   "source": [
    "Adedoyinsola Ogungbesan"
   ]
  }
 ],
 "metadata": {
  "kernelspec": {
   "display_name": "Python 3 (ipykernel)",
   "language": "python",
   "name": "python3"
  },
  "language_info": {
   "codemirror_mode": {
    "name": "ipython",
    "version": 3
   },
   "file_extension": ".py",
   "mimetype": "text/x-python",
   "name": "python",
   "nbconvert_exporter": "python",
   "pygments_lexer": "ipython3",
   "version": "3.9.13"
  }
 },
 "nbformat": 4,
 "nbformat_minor": 5
}
